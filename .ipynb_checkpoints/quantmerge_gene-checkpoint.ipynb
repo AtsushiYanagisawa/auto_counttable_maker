{
 "cells": [
  {
   "cell_type": "code",
   "execution_count": 38,
   "metadata": {},
   "outputs": [
    {
     "name": "stderr",
     "output_type": "stream",
     "text": [
      "Loading required package: bitops\n"
     ]
    }
   ],
   "source": [
    "library(tximport)\n",
    "library(readr)\n",
    "library(RCurl)"
   ]
  },
  {
   "cell_type": "code",
   "execution_count": 60,
   "metadata": {},
   "outputs": [],
   "source": [
    "meta.m <- 'gencode.vM19.metadata.MGI.gz'\n",
    "meta.base.m <- 'ftp://ftp.ebi.ac.uk/pub/databases/gencode/Gencode_mouse/release_M19'\n",
    "meta.h <- 'gencode.v29.metadata.HGNC.gz'\n",
    "meta.base.h <- 'ftp://ftp.ebi.ac.uk/pub/databases/gencode/Gencode_human/release_29'"
   ]
  },
  {
   "cell_type": "code",
   "execution_count": 74,
   "metadata": {},
   "outputs": [],
   "source": [
    "files <- list.files('.', recursive=T, pattern='quant.sf')"
   ]
  },
  {
   "cell_type": "code",
   "execution_count": 75,
   "metadata": {},
   "outputs": [
    {
     "data": {
      "text/html": [
       "<ol class=list-inline>\n",
       "\t<li>'test/Illumina/salmon_output_SRR1269711/quant.sf'</li>\n",
       "\t<li>'test/Illumina/salmon_output_SRR1269712/quant.sf'</li>\n",
       "\t<li>'test/Illumina/salmon_output_SRR1269713/quant.sf'</li>\n",
       "\t<li>'test/Illumina/salmon_output_SRR1269714/quant.sf'</li>\n",
       "\t<li>'test/Illumina/salmon_output_SRR1269715/quant.sf'</li>\n",
       "\t<li>'test/Illumina/salmon_output_SRR1269716/quant.sf'</li>\n",
       "\t<li>'test/Illumina/salmon_output_SRR1269717/quant.sf'</li>\n",
       "\t<li>'test/Illumina/salmon_output_SRR1269718/quant.sf'</li>\n",
       "\t<li>'test/quantmerge/salmon_output_test_test/quant.sf'</li>\n",
       "</ol>\n"
      ],
      "text/latex": [
       "\\begin{enumerate*}\n",
       "\\item 'test/Illumina/salmon\\_output\\_SRR1269711/quant.sf'\n",
       "\\item 'test/Illumina/salmon\\_output\\_SRR1269712/quant.sf'\n",
       "\\item 'test/Illumina/salmon\\_output\\_SRR1269713/quant.sf'\n",
       "\\item 'test/Illumina/salmon\\_output\\_SRR1269714/quant.sf'\n",
       "\\item 'test/Illumina/salmon\\_output\\_SRR1269715/quant.sf'\n",
       "\\item 'test/Illumina/salmon\\_output\\_SRR1269716/quant.sf'\n",
       "\\item 'test/Illumina/salmon\\_output\\_SRR1269717/quant.sf'\n",
       "\\item 'test/Illumina/salmon\\_output\\_SRR1269718/quant.sf'\n",
       "\\item 'test/quantmerge/salmon\\_output\\_test\\_test/quant.sf'\n",
       "\\end{enumerate*}\n"
      ],
      "text/markdown": [
       "1. 'test/Illumina/salmon_output_SRR1269711/quant.sf'\n",
       "2. 'test/Illumina/salmon_output_SRR1269712/quant.sf'\n",
       "3. 'test/Illumina/salmon_output_SRR1269713/quant.sf'\n",
       "4. 'test/Illumina/salmon_output_SRR1269714/quant.sf'\n",
       "5. 'test/Illumina/salmon_output_SRR1269715/quant.sf'\n",
       "6. 'test/Illumina/salmon_output_SRR1269716/quant.sf'\n",
       "7. 'test/Illumina/salmon_output_SRR1269717/quant.sf'\n",
       "8. 'test/Illumina/salmon_output_SRR1269718/quant.sf'\n",
       "9. 'test/quantmerge/salmon_output_test_test/quant.sf'\n",
       "\n",
       "\n"
      ],
      "text/plain": [
       "[1] \"test/Illumina/salmon_output_SRR1269711/quant.sf\" \n",
       "[2] \"test/Illumina/salmon_output_SRR1269712/quant.sf\" \n",
       "[3] \"test/Illumina/salmon_output_SRR1269713/quant.sf\" \n",
       "[4] \"test/Illumina/salmon_output_SRR1269714/quant.sf\" \n",
       "[5] \"test/Illumina/salmon_output_SRR1269715/quant.sf\" \n",
       "[6] \"test/Illumina/salmon_output_SRR1269716/quant.sf\" \n",
       "[7] \"test/Illumina/salmon_output_SRR1269717/quant.sf\" \n",
       "[8] \"test/Illumina/salmon_output_SRR1269718/quant.sf\" \n",
       "[9] \"test/quantmerge/salmon_output_test_test/quant.sf\""
      ]
     },
     "metadata": {},
     "output_type": "display_data"
    }
   ],
   "source": [
    "files"
   ]
  },
  {
   "cell_type": "code",
   "execution_count": 80,
   "metadata": {},
   "outputs": [],
   "source": [
    "files <- files[c(3,4)]"
   ]
  },
  {
   "cell_type": "code",
   "execution_count": 81,
   "metadata": {},
   "outputs": [],
   "source": [
    "sample_tx <- read.table(files[1], nrows = 2)[2,'V1']"
   ]
  },
  {
   "cell_type": "code",
   "execution_count": 82,
   "metadata": {},
   "outputs": [
    {
     "name": "stdout",
     "output_type": "stream",
     "text": [
      "[1] \"MOUSE\"\n"
     ]
    }
   ],
   "source": [
    "if (length(grep(\"^ENSMUST.*\", sample_tx)) == 1) {\n",
    "    print('MOUSE')\n",
    "    meta <- meta.m\n",
    "    meta.base <- meta.base.m\n",
    "} else if (length(grep(\"^ENST.*\", sample_tx)) == 1)  {\n",
    "    print('HUMAN')\n",
    "    meta <- meta.h\n",
    "    meta.base <- meta.base.h\n",
    "} else {\n",
    "    print('unknown transcript id. use mouse or human transcripts annotation by GENCODE.')\n",
    "}"
   ]
  },
  {
   "cell_type": "code",
   "execution_count": 83,
   "metadata": {},
   "outputs": [
    {
     "name": "stderr",
     "output_type": "stream",
     "text": [
      "Parsed with column specification:\n",
      "cols(\n",
      "  TXNAME = col_character(),\n",
      "  GENEID = col_character()\n",
      ")\n"
     ]
    }
   ],
   "source": [
    "f.meta <- list.files('.', recursive=T, pattern=meta)\n",
    "if (length(f.meta) == 0){\n",
    "    download.file(paste0(meta.base,'/',meta), destfile = meta)\n",
    "    tx2knownGene <- read_delim(meta, '\\t', col_names = c('TXNAME', 'GENEID'))\n",
    "} else {\n",
    "    tx2knownGene <- read_delim(f.meta, '\\t', col_names = c('TXNAME', 'GENEID'))\n",
    "}"
   ]
  },
  {
   "cell_type": "code",
   "execution_count": 84,
   "metadata": {},
   "outputs": [
    {
     "data": {
      "text/html": [
       "'gencode.vM19.metadata.MGI.gz'"
      ],
      "text/latex": [
       "'gencode.vM19.metadata.MGI.gz'"
      ],
      "text/markdown": [
       "'gencode.vM19.metadata.MGI.gz'"
      ],
      "text/plain": [
       "[1] \"gencode.vM19.metadata.MGI.gz\""
      ]
     },
     "metadata": {},
     "output_type": "display_data"
    }
   ],
   "source": [
    "list.files('.', recursive=T, pattern=meta)"
   ]
  },
  {
   "cell_type": "code",
   "execution_count": 104,
   "metadata": {},
   "outputs": [
    {
     "data": {
      "text/html": [
       "<ol class=list-inline>\n",
       "\t<li>'test/Illumina/salmon_output_SRR1269713/quant.sf'</li>\n",
       "\t<li>'test/Illumina/salmon_output_SRR1269714/quant.sf'</li>\n",
       "</ol>\n"
      ],
      "text/latex": [
       "\\begin{enumerate*}\n",
       "\\item 'test/Illumina/salmon\\_output\\_SRR1269713/quant.sf'\n",
       "\\item 'test/Illumina/salmon\\_output\\_SRR1269714/quant.sf'\n",
       "\\end{enumerate*}\n"
      ],
      "text/markdown": [
       "1. 'test/Illumina/salmon_output_SRR1269713/quant.sf'\n",
       "2. 'test/Illumina/salmon_output_SRR1269714/quant.sf'\n",
       "\n",
       "\n"
      ],
      "text/plain": [
       "[1] \"test/Illumina/salmon_output_SRR1269713/quant.sf\"\n",
       "[2] \"test/Illumina/salmon_output_SRR1269714/quant.sf\""
      ]
     },
     "metadata": {},
     "output_type": "display_data"
    }
   ],
   "source": [
    "files"
   ]
  },
  {
   "cell_type": "code",
   "execution_count": 154,
   "metadata": {},
   "outputs": [
    {
     "name": "stdout",
     "output_type": "stream",
     "text": [
      "[1] \"SRR1269713\" \"SRR1269713\"\n"
     ]
    }
   ],
   "source": [
    "names <- c()\n",
    "for (f in files){\n",
    "    n <- (unlist(strsplit(files, 'salmon_output_')[1])[2])\n",
    "    n <- (unlist(strsplit(n, '/quant.sf')[1])[1])\n",
    "#     print(n)\n",
    "    names <- c(names, n)\n",
    "}\n",
    "print(names)"
   ]
  },
  {
   "cell_type": "code",
   "execution_count": 155,
   "metadata": {},
   "outputs": [],
   "source": [
    "names(files) <- names"
   ]
  },
  {
   "cell_type": "code",
   "execution_count": 156,
   "metadata": {},
   "outputs": [
    {
     "name": "stderr",
     "output_type": "stream",
     "text": [
      "reading in files with read_tsv\n",
      "1 2 \n",
      "removing duplicated transcript rows from tx2gene\n",
      "transcripts missing from tx2gene: 1011\n",
      "summarizing abundance\n",
      "summarizing counts\n",
      "summarizing length\n"
     ]
    },
    {
     "data": {
      "text/html": [
       "<table>\n",
       "<thead><tr><th></th><th scope=col>SRR1269713</th><th scope=col>SRR1269713</th></tr></thead>\n",
       "<tbody>\n",
       "\t<tr><th scope=row>0610005C13Rik</th><td>0.0000000</td><td>0        </td></tr>\n",
       "\t<tr><th scope=row>0610006L08Rik</th><td>0.0000000</td><td>0        </td></tr>\n",
       "\t<tr><th scope=row>0610009B22Rik</th><td>0.0000000</td><td>0        </td></tr>\n",
       "\t<tr><th scope=row>0610009E02Rik</th><td>0.0000000</td><td>0        </td></tr>\n",
       "\t<tr><th scope=row>0610009L18Rik</th><td>0.0000000</td><td>0        </td></tr>\n",
       "\t<tr><th scope=row>0610010F05Rik</th><td>0.3625382</td><td>0        </td></tr>\n",
       "</tbody>\n",
       "</table>\n"
      ],
      "text/latex": [
       "\\begin{tabular}{r|ll}\n",
       "  & SRR1269713 & SRR1269713\\\\\n",
       "\\hline\n",
       "\t0610005C13Rik & 0.0000000 & 0        \\\\\n",
       "\t0610006L08Rik & 0.0000000 & 0        \\\\\n",
       "\t0610009B22Rik & 0.0000000 & 0        \\\\\n",
       "\t0610009E02Rik & 0.0000000 & 0        \\\\\n",
       "\t0610009L18Rik & 0.0000000 & 0        \\\\\n",
       "\t0610010F05Rik & 0.3625382 & 0        \\\\\n",
       "\\end{tabular}\n"
      ],
      "text/markdown": [
       "\n",
       "| <!--/--> | SRR1269713 | SRR1269713 | \n",
       "|---|---|---|---|---|---|\n",
       "| 0610005C13Rik | 0.0000000 | 0         | \n",
       "| 0610006L08Rik | 0.0000000 | 0         | \n",
       "| 0610009B22Rik | 0.0000000 | 0         | \n",
       "| 0610009E02Rik | 0.0000000 | 0         | \n",
       "| 0610009L18Rik | 0.0000000 | 0         | \n",
       "| 0610010F05Rik | 0.3625382 | 0         | \n",
       "\n",
       "\n"
      ],
      "text/plain": [
       "              SRR1269713 SRR1269713\n",
       "0610005C13Rik 0.0000000  0         \n",
       "0610006L08Rik 0.0000000  0         \n",
       "0610009B22Rik 0.0000000  0         \n",
       "0610009E02Rik 0.0000000  0         \n",
       "0610009L18Rik 0.0000000  0         \n",
       "0610010F05Rik 0.3625382  0         "
      ]
     },
     "metadata": {},
     "output_type": "display_data"
    }
   ],
   "source": [
    "txi.salmon <- tximport(files, type = \"salmon\", tx2gene = tx2knownGene, countsFromAbundance = \"scaledTPM\")\n",
    "head(txi.salmon$counts)"
   ]
  },
  {
   "cell_type": "code",
   "execution_count": 157,
   "metadata": {},
   "outputs": [
    {
     "data": {
      "text/html": [
       "<table>\n",
       "<thead><tr><th></th><th scope=col>SRR1269713</th><th scope=col>SRR1269713</th></tr></thead>\n",
       "<tbody>\n",
       "\t<tr><th scope=row>0610005C13Rik</th><td>0.000000</td><td>0       </td></tr>\n",
       "\t<tr><th scope=row>0610006L08Rik</th><td>0.000000</td><td>0       </td></tr>\n",
       "\t<tr><th scope=row>0610009B22Rik</th><td>0.000000</td><td>0       </td></tr>\n",
       "\t<tr><th scope=row>0610009E02Rik</th><td>0.000000</td><td>0       </td></tr>\n",
       "\t<tr><th scope=row>0610009L18Rik</th><td>0.000000</td><td>0       </td></tr>\n",
       "\t<tr><th scope=row>0610010F05Rik</th><td>4.266753</td><td>0       </td></tr>\n",
       "</tbody>\n",
       "</table>\n"
      ],
      "text/latex": [
       "\\begin{tabular}{r|ll}\n",
       "  & SRR1269713 & SRR1269713\\\\\n",
       "\\hline\n",
       "\t0610005C13Rik & 0.000000 & 0       \\\\\n",
       "\t0610006L08Rik & 0.000000 & 0       \\\\\n",
       "\t0610009B22Rik & 0.000000 & 0       \\\\\n",
       "\t0610009E02Rik & 0.000000 & 0       \\\\\n",
       "\t0610009L18Rik & 0.000000 & 0       \\\\\n",
       "\t0610010F05Rik & 4.266753 & 0       \\\\\n",
       "\\end{tabular}\n"
      ],
      "text/markdown": [
       "\n",
       "| <!--/--> | SRR1269713 | SRR1269713 | \n",
       "|---|---|---|---|---|---|\n",
       "| 0610005C13Rik | 0.000000 | 0        | \n",
       "| 0610006L08Rik | 0.000000 | 0        | \n",
       "| 0610009B22Rik | 0.000000 | 0        | \n",
       "| 0610009E02Rik | 0.000000 | 0        | \n",
       "| 0610009L18Rik | 0.000000 | 0        | \n",
       "| 0610010F05Rik | 4.266753 | 0        | \n",
       "\n",
       "\n"
      ],
      "text/plain": [
       "              SRR1269713 SRR1269713\n",
       "0610005C13Rik 0.000000   0         \n",
       "0610006L08Rik 0.000000   0         \n",
       "0610009B22Rik 0.000000   0         \n",
       "0610009E02Rik 0.000000   0         \n",
       "0610009L18Rik 0.000000   0         \n",
       "0610010F05Rik 4.266753   0         "
      ]
     },
     "metadata": {},
     "output_type": "display_data"
    }
   ],
   "source": [
    "head(txi.salmon$abundance)"
   ]
  },
  {
   "cell_type": "code",
   "execution_count": 158,
   "metadata": {},
   "outputs": [
    {
     "name": "stderr",
     "output_type": "stream",
     "text": [
      "reading in files with read_tsv\n",
      "1 2 \n",
      "removing duplicated transcript rows from tx2gene\n",
      "transcripts missing from tx2gene: 1011\n",
      "summarizing abundance\n",
      "summarizing counts\n",
      "summarizing length\n"
     ]
    },
    {
     "data": {
      "text/html": [
       "<table>\n",
       "<thead><tr><th></th><th scope=col>SRR1269713</th><th scope=col>SRR1269713</th></tr></thead>\n",
       "<tbody>\n",
       "\t<tr><th scope=row>0610005C13Rik</th><td>0</td><td>0</td></tr>\n",
       "\t<tr><th scope=row>0610006L08Rik</th><td>0</td><td>0</td></tr>\n",
       "\t<tr><th scope=row>0610009B22Rik</th><td>0</td><td>0</td></tr>\n",
       "\t<tr><th scope=row>0610009E02Rik</th><td>0</td><td>0</td></tr>\n",
       "\t<tr><th scope=row>0610009L18Rik</th><td>0</td><td>0</td></tr>\n",
       "\t<tr><th scope=row>0610010F05Rik</th><td>2</td><td>0</td></tr>\n",
       "\t<tr><th scope=row>0610010K14Rik</th><td>0</td><td>0</td></tr>\n",
       "\t<tr><th scope=row>0610012D04Rik</th><td>0</td><td>0</td></tr>\n",
       "\t<tr><th scope=row>0610012G03Rik</th><td>1</td><td>2</td></tr>\n",
       "\t<tr><th scope=row>0610025J13Rik</th><td>0</td><td>0</td></tr>\n",
       "</tbody>\n",
       "</table>\n"
      ],
      "text/latex": [
       "\\begin{tabular}{r|ll}\n",
       "  & SRR1269713 & SRR1269713\\\\\n",
       "\\hline\n",
       "\t0610005C13Rik & 0 & 0\\\\\n",
       "\t0610006L08Rik & 0 & 0\\\\\n",
       "\t0610009B22Rik & 0 & 0\\\\\n",
       "\t0610009E02Rik & 0 & 0\\\\\n",
       "\t0610009L18Rik & 0 & 0\\\\\n",
       "\t0610010F05Rik & 2 & 0\\\\\n",
       "\t0610010K14Rik & 0 & 0\\\\\n",
       "\t0610012D04Rik & 0 & 0\\\\\n",
       "\t0610012G03Rik & 1 & 2\\\\\n",
       "\t0610025J13Rik & 0 & 0\\\\\n",
       "\\end{tabular}\n"
      ],
      "text/markdown": [
       "\n",
       "| <!--/--> | SRR1269713 | SRR1269713 | \n",
       "|---|---|---|---|---|---|---|---|---|---|\n",
       "| 0610005C13Rik | 0 | 0 | \n",
       "| 0610006L08Rik | 0 | 0 | \n",
       "| 0610009B22Rik | 0 | 0 | \n",
       "| 0610009E02Rik | 0 | 0 | \n",
       "| 0610009L18Rik | 0 | 0 | \n",
       "| 0610010F05Rik | 2 | 0 | \n",
       "| 0610010K14Rik | 0 | 0 | \n",
       "| 0610012D04Rik | 0 | 0 | \n",
       "| 0610012G03Rik | 1 | 2 | \n",
       "| 0610025J13Rik | 0 | 0 | \n",
       "\n",
       "\n"
      ],
      "text/plain": [
       "              SRR1269713 SRR1269713\n",
       "0610005C13Rik 0          0         \n",
       "0610006L08Rik 0          0         \n",
       "0610009B22Rik 0          0         \n",
       "0610009E02Rik 0          0         \n",
       "0610009L18Rik 0          0         \n",
       "0610010F05Rik 2          0         \n",
       "0610010K14Rik 0          0         \n",
       "0610012D04Rik 0          0         \n",
       "0610012G03Rik 1          2         \n",
       "0610025J13Rik 0          0         "
      ]
     },
     "metadata": {},
     "output_type": "display_data"
    }
   ],
   "source": [
    "txi.salmon <- tximport(files, type = \"salmon\", tx2gene = tx2knownGene, countsFromAbundance=\"no\")\n",
    "head(txi.salmon$counts, n=10)"
   ]
  },
  {
   "cell_type": "code",
   "execution_count": 159,
   "metadata": {},
   "outputs": [
    {
     "name": "stderr",
     "output_type": "stream",
     "text": [
      "reading in files with read_tsv\n",
      "1 2 \n",
      "removing duplicated transcript rows from tx2gene\n",
      "transcripts missing from tx2gene: 1011\n",
      "summarizing abundance\n",
      "summarizing counts\n",
      "summarizing length\n"
     ]
    },
    {
     "data": {
      "text/html": [
       "<table>\n",
       "<thead><tr><th></th><th scope=col>SRR1269713</th><th scope=col>SRR1269713</th></tr></thead>\n",
       "<tbody>\n",
       "\t<tr><th scope=row>0610005C13Rik</th><td>0.0000000</td><td>0.00000  </td></tr>\n",
       "\t<tr><th scope=row>0610006L08Rik</th><td>0.0000000</td><td>0.00000  </td></tr>\n",
       "\t<tr><th scope=row>0610009B22Rik</th><td>0.0000000</td><td>0.00000  </td></tr>\n",
       "\t<tr><th scope=row>0610009E02Rik</th><td>0.0000000</td><td>0.00000  </td></tr>\n",
       "\t<tr><th scope=row>0610009L18Rik</th><td>0.0000000</td><td>0.00000  </td></tr>\n",
       "\t<tr><th scope=row>0610010F05Rik</th><td>0.3625382</td><td>0.00000  </td></tr>\n",
       "\t<tr><th scope=row>0610010K14Rik</th><td>0.0000000</td><td>0.00000  </td></tr>\n",
       "\t<tr><th scope=row>0610012D04Rik</th><td>0.0000000</td><td>0.00000  </td></tr>\n",
       "\t<tr><th scope=row>0610012G03Rik</th><td>0.5148589</td><td>1.05418  </td></tr>\n",
       "\t<tr><th scope=row>0610025J13Rik</th><td>0.0000000</td><td>0.00000  </td></tr>\n",
       "</tbody>\n",
       "</table>\n"
      ],
      "text/latex": [
       "\\begin{tabular}{r|ll}\n",
       "  & SRR1269713 & SRR1269713\\\\\n",
       "\\hline\n",
       "\t0610005C13Rik & 0.0000000 & 0.00000  \\\\\n",
       "\t0610006L08Rik & 0.0000000 & 0.00000  \\\\\n",
       "\t0610009B22Rik & 0.0000000 & 0.00000  \\\\\n",
       "\t0610009E02Rik & 0.0000000 & 0.00000  \\\\\n",
       "\t0610009L18Rik & 0.0000000 & 0.00000  \\\\\n",
       "\t0610010F05Rik & 0.3625382 & 0.00000  \\\\\n",
       "\t0610010K14Rik & 0.0000000 & 0.00000  \\\\\n",
       "\t0610012D04Rik & 0.0000000 & 0.00000  \\\\\n",
       "\t0610012G03Rik & 0.5148589 & 1.05418  \\\\\n",
       "\t0610025J13Rik & 0.0000000 & 0.00000  \\\\\n",
       "\\end{tabular}\n"
      ],
      "text/markdown": [
       "\n",
       "| <!--/--> | SRR1269713 | SRR1269713 | \n",
       "|---|---|---|---|---|---|---|---|---|---|\n",
       "| 0610005C13Rik | 0.0000000 | 0.00000   | \n",
       "| 0610006L08Rik | 0.0000000 | 0.00000   | \n",
       "| 0610009B22Rik | 0.0000000 | 0.00000   | \n",
       "| 0610009E02Rik | 0.0000000 | 0.00000   | \n",
       "| 0610009L18Rik | 0.0000000 | 0.00000   | \n",
       "| 0610010F05Rik | 0.3625382 | 0.00000   | \n",
       "| 0610010K14Rik | 0.0000000 | 0.00000   | \n",
       "| 0610012D04Rik | 0.0000000 | 0.00000   | \n",
       "| 0610012G03Rik | 0.5148589 | 1.05418   | \n",
       "| 0610025J13Rik | 0.0000000 | 0.00000   | \n",
       "\n",
       "\n"
      ],
      "text/plain": [
       "              SRR1269713 SRR1269713\n",
       "0610005C13Rik 0.0000000  0.00000   \n",
       "0610006L08Rik 0.0000000  0.00000   \n",
       "0610009B22Rik 0.0000000  0.00000   \n",
       "0610009E02Rik 0.0000000  0.00000   \n",
       "0610009L18Rik 0.0000000  0.00000   \n",
       "0610010F05Rik 0.3625382  0.00000   \n",
       "0610010K14Rik 0.0000000  0.00000   \n",
       "0610012D04Rik 0.0000000  0.00000   \n",
       "0610012G03Rik 0.5148589  1.05418   \n",
       "0610025J13Rik 0.0000000  0.00000   "
      ]
     },
     "metadata": {},
     "output_type": "display_data"
    }
   ],
   "source": [
    "txi.salmon <- tximport(files, type = \"salmon\", tx2gene = tx2knownGene, countsFromAbundance=\"scaledTPM\")\n",
    "head(txi.salmon$counts, n = 10)"
   ]
  },
  {
   "cell_type": "code",
   "execution_count": 101,
   "metadata": {},
   "outputs": [
    {
     "data": {
      "text/html": [
       "'no'"
      ],
      "text/latex": [
       "'no'"
      ],
      "text/markdown": [
       "'no'"
      ],
      "text/plain": [
       "[1] \"no\""
      ]
     },
     "metadata": {},
     "output_type": "display_data"
    }
   ],
   "source": [
    "txi.salmon$countsFromAbundance"
   ]
  },
  {
   "cell_type": "code",
   "execution_count": null,
   "metadata": {},
   "outputs": [],
   "source": []
  }
 ],
 "metadata": {
  "kernelspec": {
   "display_name": "R",
   "language": "R",
   "name": "ir"
  },
  "language_info": {
   "codemirror_mode": "r",
   "file_extension": ".r",
   "mimetype": "text/x-r-source",
   "name": "R",
   "pygments_lexer": "r",
   "version": "3.4.2"
  }
 },
 "nbformat": 4,
 "nbformat_minor": 2
}
