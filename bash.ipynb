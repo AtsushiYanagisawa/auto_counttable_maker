{
 "cells": [
  {
   "cell_type": "code",
   "execution_count": 11,
   "metadata": {},
   "outputs": [],
   "source": [
    "EX_MATRIX_FILE=Ion_fastq.csv"
   ]
  },
  {
   "cell_type": "code",
   "execution_count": 3,
   "metadata": {},
   "outputs": [
    {
     "name": "stdout",
     "output_type": "stream",
     "text": [
      "name,fastq_file,CellType,tissue_type\n",
      "Treg_LN_1,SRR5385247.fastq.gz,Treg,LymphNodes\n",
      "Treg_LN_2,SRR5385248.fastq.gz,Treg,LymphNodes\n",
      "Tconv_LN_1,SRR5385249.fastq.gz,Tconv,LymphNodes\n",
      "Tconv_LN_2,SRR5385250.fastq.gz,Tconv,LymphNodes\n",
      "Treg_Thym_1,SRR5385251.fastq.gz,Treg,Thymus\n",
      "Treg_Thym_2,SRR5385252.fastq.gz,Treg,Thymus\n",
      "Tconv_Thym_1,SRR5385255.fastq.gz,Tconv,Thymus\n",
      "Tconv_Thym_2,SRR5385256.fastq.gz,Tconv,Thymus"
     ]
    }
   ],
   "source": [
    "cat $EX_MATRIX_FILE"
   ]
  },
  {
   "cell_type": "code",
   "execution_count": 5,
   "metadata": {},
   "outputs": [
    {
     "name": "stdout",
     "output_type": "stream",
     "text": [
      "Ion_fastq.csv\n"
     ]
    }
   ],
   "source": [
    "$EX_MATRIX_FILE"
   ]
  },
  {
   "cell_type": "code",
   "execution_count": 13,
   "metadata": {},
   "outputs": [
    {
     "name": "stdout",
     "output_type": "stream",
     "text": [
      "test\n"
     ]
    }
   ],
   "source": [
    "fq=test/test.fastq.gz\n",
    "\n",
    "fqname_ext=\"${fq##*/}\"\n",
    "# echo $fqname_ext\n",
    "\n",
    "# ファイル名を取り出す（拡張子なし）\n",
    "basename_fq=\"${fqname_ext%.*.*}\"\n",
    "echo $basename_fq"
   ]
  },
  {
   "cell_type": "code",
   "execution_count": 18,
   "metadata": {},
   "outputs": [],
   "source": [
    "dirname_fq=`dirname $fq`"
   ]
  },
  {
   "cell_type": "code",
   "execution_count": 19,
   "metadata": {},
   "outputs": [
    {
     "name": "stdout",
     "output_type": "stream",
     "text": [
      "test\n"
     ]
    }
   ],
   "source": [
    "echo $dirname_fq"
   ]
  },
  {
   "cell_type": "code",
   "execution_count": 20,
   "metadata": {},
   "outputs": [
    {
     "name": "stdout",
     "output_type": "stream",
     "text": [
      ".\n"
     ]
    }
   ],
   "source": [
    "dirname test"
   ]
  },
  {
   "cell_type": "code",
   "execution_count": null,
   "metadata": {},
   "outputs": [],
   "source": [
    "gunzip -c SRR5385247.fastq.gz | fastx_trimmer -Q33 -f 1 -l 220 | fastq_quality_trimmer -z -Q33 -t 18 -l 20 -o trim.fastq.gz"
   ]
  }
 ],
 "metadata": {
  "kernelspec": {
   "display_name": "Bash",
   "language": "bash",
   "name": "bash"
  },
  "language_info": {
   "codemirror_mode": "shell",
   "file_extension": ".sh",
   "mimetype": "text/x-sh",
   "name": "bash"
  }
 },
 "nbformat": 4,
 "nbformat_minor": 2
}
