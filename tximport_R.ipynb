{
 "cells": [
  {
   "cell_type": "code",
   "execution_count": 1,
   "metadata": {},
   "outputs": [],
   "source": [
    "library(tximport)"
   ]
  },
  {
   "cell_type": "code",
   "execution_count": 3,
   "metadata": {},
   "outputs": [],
   "source": [
    "exp.table <- read.csv('tpTregTconv_rnaseq_experiment_table.csv')"
   ]
  },
  {
   "cell_type": "code",
   "execution_count": 4,
   "metadata": {},
   "outputs": [
    {
     "data": {
      "text/html": [
       "<table>\n",
       "<thead><tr><th scope=col>name</th><th scope=col>fastq_file</th><th scope=col>Layout</th><th scope=col>CellType</th><th scope=col>tissue_type</th></tr></thead>\n",
       "<tbody>\n",
       "\t<tr><td>Treg_LN_1   </td><td>SRR5385247  </td><td>SE          </td><td>Treg        </td><td>LymphNodes  </td></tr>\n",
       "\t<tr><td>Treg_LN_2   </td><td>SRR5385248  </td><td>SE          </td><td>Treg        </td><td>LymphNodes  </td></tr>\n",
       "\t<tr><td>Tconv_LN_1  </td><td>SRR5385249  </td><td>SE          </td><td>Tconv       </td><td>LymphNodes  </td></tr>\n",
       "\t<tr><td>Tconv_LN_2  </td><td>SRR5385250  </td><td>SE          </td><td>Tconv       </td><td>LymphNodes  </td></tr>\n",
       "\t<tr><td>Treg_Thym_1 </td><td>SRR5385251  </td><td>SE          </td><td>Treg        </td><td>Thymus      </td></tr>\n",
       "\t<tr><td>Treg_Thym_2 </td><td>SRR5385252  </td><td>SE          </td><td>Treg        </td><td>Thymus      </td></tr>\n",
       "\t<tr><td>Tconv_Thym_1</td><td>SRR5385255  </td><td>SE          </td><td>Tconv       </td><td>Thymus      </td></tr>\n",
       "\t<tr><td>Tconv_Thym_2</td><td>SRR5385256  </td><td>SE          </td><td>Tconv       </td><td>Thymus      </td></tr>\n",
       "</tbody>\n",
       "</table>\n"
      ],
      "text/latex": [
       "\\begin{tabular}{r|lllll}\n",
       " name & fastq\\_file & Layout & CellType & tissue\\_type\\\\\n",
       "\\hline\n",
       "\t Treg\\_LN\\_1    & SRR5385247       & SE               & Treg             & LymphNodes      \\\\\n",
       "\t Treg\\_LN\\_2    & SRR5385248       & SE               & Treg             & LymphNodes      \\\\\n",
       "\t Tconv\\_LN\\_1   & SRR5385249       & SE               & Tconv            & LymphNodes      \\\\\n",
       "\t Tconv\\_LN\\_2   & SRR5385250       & SE               & Tconv            & LymphNodes      \\\\\n",
       "\t Treg\\_Thym\\_1  & SRR5385251       & SE               & Treg             & Thymus          \\\\\n",
       "\t Treg\\_Thym\\_2  & SRR5385252       & SE               & Treg             & Thymus          \\\\\n",
       "\t Tconv\\_Thym\\_1 & SRR5385255       & SE               & Tconv            & Thymus          \\\\\n",
       "\t Tconv\\_Thym\\_2 & SRR5385256       & SE               & Tconv            & Thymus          \\\\\n",
       "\\end{tabular}\n"
      ],
      "text/markdown": [
       "\n",
       "name | fastq_file | Layout | CellType | tissue_type | \n",
       "|---|---|---|---|---|---|---|---|\n",
       "| Treg_LN_1    | SRR5385247   | SE           | Treg         | LymphNodes   | \n",
       "| Treg_LN_2    | SRR5385248   | SE           | Treg         | LymphNodes   | \n",
       "| Tconv_LN_1   | SRR5385249   | SE           | Tconv        | LymphNodes   | \n",
       "| Tconv_LN_2   | SRR5385250   | SE           | Tconv        | LymphNodes   | \n",
       "| Treg_Thym_1  | SRR5385251   | SE           | Treg         | Thymus       | \n",
       "| Treg_Thym_2  | SRR5385252   | SE           | Treg         | Thymus       | \n",
       "| Tconv_Thym_1 | SRR5385255   | SE           | Tconv        | Thymus       | \n",
       "| Tconv_Thym_2 | SRR5385256   | SE           | Tconv        | Thymus       | \n",
       "\n",
       "\n"
      ],
      "text/plain": [
       "  name         fastq_file Layout CellType tissue_type\n",
       "1 Treg_LN_1    SRR5385247 SE     Treg     LymphNodes \n",
       "2 Treg_LN_2    SRR5385248 SE     Treg     LymphNodes \n",
       "3 Tconv_LN_1   SRR5385249 SE     Tconv    LymphNodes \n",
       "4 Tconv_LN_2   SRR5385250 SE     Tconv    LymphNodes \n",
       "5 Treg_Thym_1  SRR5385251 SE     Treg     Thymus     \n",
       "6 Treg_Thym_2  SRR5385252 SE     Treg     Thymus     \n",
       "7 Tconv_Thym_1 SRR5385255 SE     Tconv    Thymus     \n",
       "8 Tconv_Thym_2 SRR5385256 SE     Tconv    Thymus     "
      ]
     },
     "metadata": {},
     "output_type": "display_data"
    }
   ],
   "source": [
    "exp.table"
   ]
  },
  {
   "cell_type": "code",
   "execution_count": null,
   "metadata": {},
   "outputs": [],
   "source": []
  }
 ],
 "metadata": {
  "jupytext": {},
  "kernelspec": {
   "display_name": "R",
   "language": "R",
   "name": "ir"
  },
  "language_info": {
   "codemirror_mode": "r",
   "file_extension": ".r",
   "mimetype": "text/x-r-source",
   "name": "R",
   "pygments_lexer": "r",
   "version": "3.5.1"
  }
 },
 "nbformat": 4,
 "nbformat_minor": 2
}
